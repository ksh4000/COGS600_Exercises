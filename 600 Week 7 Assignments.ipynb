{
 "cells": [
  {
   "cell_type": "code",
   "execution_count": 20,
   "id": "00b60f50-40f5-4996-b853-7708ee0faafa",
   "metadata": {},
   "outputs": [
    {
     "name": "stdout",
     "output_type": "stream",
     "text": [
      "This operation determines the number of tickets sold by Hector and Dimitri.\n",
      "Hector sold 8 tickets and Dimitri sold 4 tickets.\n"
     ]
    }
   ],
   "source": [
    "# assignment 1\n",
    "def ticket_sales(tickets = 12):\n",
    "    \n",
    "    print(\"This function determines the number of tickets sold by Hector and Dimitri.\")\n",
    "    \n",
    "    i = 0\n",
    "\n",
    "    while i < tickets:\n",
    "        d_sales = i\n",
    "        h_sales = 2 * d_sales\n",
    "        if h_sales + d_sales == tickets:\n",
    "            return f\"Hector sold {h_sales} tickets and Dimitri sold {d_sales} tickets.\"\n",
    "            break\n",
    "        i+=1\n",
    "\n",
    "print(ticket_sales())\n"
   ]
  },
  {
   "cell_type": "code",
   "execution_count": 16,
   "id": "2b096f05-2d37-46f0-afdb-b616c98af692",
   "metadata": {},
   "outputs": [
    {
     "name": "stdout",
     "output_type": "stream",
     "text": [
      "This function returns a word broken into two strings: \n",
      "    one containing just the characters in the even position, \n",
      "    and one containing just the characters in the odd position.\n"
     ]
    },
    {
     "name": "stdin",
     "output_type": "stream",
     "text": [
      "Enter a word: cognitive\n"
     ]
    },
    {
     "name": "stdout",
     "output_type": "stream",
     "text": [
      "('cgiie', 'ontv')\n"
     ]
    }
   ],
   "source": [
    "# assignment 2\n",
    "def is_even(i):\n",
    "    return i%2==0\n",
    "\n",
    "def word_split():\n",
    "    \n",
    "    print(\"\"\"This function returns a word broken into two strings: \n",
    "    one containing just the characters in the even position, \n",
    "    and one containing just the characters in the odd position.\"\"\")\n",
    "\n",
    "    query = input(\"Enter a word:\")\n",
    "\n",
    "    string1 = \"\"\n",
    "    string2 = \"\"\n",
    "\n",
    "    for i in range(0, len(query)):\n",
    "        if is_even(i):\n",
    "            string1 += query[i]\n",
    "        else:\n",
    "            string2 += query[i]\n",
    "\n",
    "    return string1, string2\n",
    "            \n",
    "print(word_split())"
   ]
  },
  {
   "cell_type": "code",
   "execution_count": 26,
   "id": "865efc3f-f8b0-4a9b-abe5-35f68a025228",
   "metadata": {},
   "outputs": [
    {
     "name": "stdout",
     "output_type": "stream",
     "text": [
      "This function determines whether or not an integer is prime.\n"
     ]
    },
    {
     "name": "stdin",
     "output_type": "stream",
     "text": [
      "Enter an integer: 109\n"
     ]
    },
    {
     "name": "stdout",
     "output_type": "stream",
     "text": [
      "109 is a prime number!\n"
     ]
    }
   ],
   "source": [
    "# assignment 3\n",
    "def prime_check():\n",
    "\n",
    "    print(\"This function determines whether or not an integer is prime.\")\n",
    "\n",
    "    n = int(input(\"Enter an integer:\"))\n",
    "    i = 2\n",
    "\n",
    "    if n <= 1:\n",
    "        return f\"{n} is not a prime number.\"\n",
    "\n",
    "    while i < n:\n",
    "        if n%i == 0:\n",
    "            return f\"{n} is not a prime number.\"\n",
    "        i +=1\n",
    "\n",
    "    return f\"{n} is a prime number!\"\n",
    "\n",
    "print(prime_check())"
   ]
  }
 ],
 "metadata": {
  "kernelspec": {
   "display_name": "Python [conda env:base] *",
   "language": "python",
   "name": "conda-base-py"
  },
  "language_info": {
   "codemirror_mode": {
    "name": "ipython",
    "version": 3
   },
   "file_extension": ".py",
   "mimetype": "text/x-python",
   "name": "python",
   "nbconvert_exporter": "python",
   "pygments_lexer": "ipython3",
   "version": "3.13.5"
  }
 },
 "nbformat": 4,
 "nbformat_minor": 5
}
